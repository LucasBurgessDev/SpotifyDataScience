{
 "cells": [
  {
   "cell_type": "code",
   "execution_count": 2,
   "source": [
    "import ast\r\n",
    "from typing import List\r\n",
    "from os import listdir\r\n",
    "def get_streamings(path: str = 'MyData') -> List[dict]:\r\n",
    "    files = ['MyData/' + x for x in listdir(path)\r\n",
    "            if x.split('.')[0][:1] == 'StreamingHistory']\r\n",
    "    \r\n",
    "    all_streamings = []\r\n",
    "\r\n",
    "    for file in files:\r\n",
    "        with open(file, 'r', encdoing='UTF-8') as f:\r\n",
    "            new_streaming = ast.literal_eval(f.read())\r\n",
    "            all_streamings += [streaming for streaming\r\n",
    "                                in new_streaming]\r\n",
    "    return all_streamings\r\n"
   ],
   "outputs": [],
   "metadata": {}
  },
  {
   "cell_type": "code",
   "execution_count": 3,
   "source": [
    "import spotipy.util as util\r\n",
    "\r\n",
    "username = 'lukeyburge'\r\n",
    "client_id = '6cd330add6d0478395611e104d584dce'\r\n",
    "client_secret = '1282d9f21bc646deaf9f349b0376e6dc'\r\n",
    "redirect_uri = 'http://localhost:7777/callback'\r\n",
    "scope = 'user-read-recently-played'\r\n",
    "\r\n",
    "token = util.prompt_for_user_token(username=username,\r\n",
    "                                   scope=scope,\r\n",
    "                                   client_id=client_id,\r\n",
    "                                   client_secret=client_secret,\r\n",
    "                                   redirect_uri=redirect_uri)\r\n"
   ],
   "outputs": [],
   "metadata": {}
  },
  {
   "cell_type": "code",
   "execution_count": 15,
   "source": [
    "import requests\r\n",
    "\r\n",
    "\r\n",
    "def get_id(track_name: str, token: str) -> str:\r\n",
    "    headers = {\r\n",
    "    'Accept': 'application/json',\r\n",
    "    'Content-Type': 'application/json',\r\n",
    "    'Authorization': f'Bearer ' + token,\r\n",
    "    }\r\n",
    "    params = [\r\n",
    "    ('q', track_name),\r\n",
    "    ('type', 'track'),\r\n",
    "    ]\r\n",
    "    try:\r\n",
    "        response = requests.get('https://api.spotify.com/v1/search', \r\n",
    "                    headers = headers, params = params, timeout = 5)\r\n",
    "        json = response.json()\r\n",
    "        first_result = json['tracks']['items'][0]\r\n",
    "        track_id = first_result['id']\r\n",
    "        print(first_result['name'])\r\n",
    "        return track_id\r\n",
    "    except:\r\n",
    "        return None\r\n",
    "\r\n",
    "lucy_id = get_id('lucy', token)\r\n",
    "print(lucy_id)\r\n"
   ],
   "outputs": [
    {
     "output_type": "stream",
     "name": "stdout",
     "text": [
      "Sex on Fire\n",
      "5A1FmxbYVRZKy4nc16MAue\n"
     ]
    }
   ],
   "metadata": {}
  },
  {
   "cell_type": "code",
   "execution_count": 16,
   "source": [
    "import spotipy as spotipy\r\n",
    "\r\n",
    "def get_features(track_id: str, token: str) -> dict:\r\n",
    "    sp = spotipy.Spotify(auth=token)\r\n",
    "    try:\r\n",
    "        features = sp.audio_features([track_id])\r\n",
    "        return features[0]\r\n",
    "    except:\r\n",
    "        return None\r\n",
    "\r\n",
    "\r\n",
    "lucy_features = get_features(lucy_id, token)\r\n",
    "print(lucy_features)\r\n"
   ],
   "outputs": [
    {
     "output_type": "stream",
     "name": "stdout",
     "text": [
      "{'danceability': 0.542, 'energy': 0.905, 'key': 9, 'loudness': -5.653, 'mode': 1, 'speechiness': 0.054, 'acousticness': 0.00172, 'instrumentalness': 0.0104, 'liveness': 0.136, 'valence': 0.374, 'tempo': 153.398, 'type': 'audio_features', 'id': '5A1FmxbYVRZKy4nc16MAue', 'uri': 'spotify:track:5A1FmxbYVRZKy4nc16MAue', 'track_href': 'https://api.spotify.com/v1/tracks/5A1FmxbYVRZKy4nc16MAue', 'analysis_url': 'https://api.spotify.com/v1/audio-analysis/5A1FmxbYVRZKy4nc16MAue', 'duration_ms': 203347, 'time_signature': 4}\n"
     ]
    }
   ],
   "metadata": {}
  },
  {
   "cell_type": "code",
   "execution_count": null,
   "source": [
    "import pandas as pd\r\n",
    "\r\n",
    "streamings = get_streamings()\r\n",
    "unique_tracks = list(set([streaming['trackName']\r\n",
    "                          for streaming in streamings]))\r\n",
    "\r\n",
    "all_features = {}\r\n",
    "for track in unique_tracks:\r\n",
    "    track_id = get_id(track, token)\r\n",
    "    features = get_features(track_id, token)\r\n",
    "    if features:\r\n",
    "        all_features[track] = features\r\n",
    "\r\n",
    "with_features = []\r\n",
    "for track_name, features in all_features.items():\r\n",
    "    with_features.append({'name': track_name, **features})\r\n",
    "\r\n",
    "df = pd.DataFrame(with_features)\r\n",
    "df.to_csv('streaming_history.csv')"
   ],
   "outputs": [],
   "metadata": {}
  },
  {
   "cell_type": "code",
   "execution_count": null,
   "source": [
    "from collections import namedtuple\r\n",
    "import pandas as pd\r\n",
    "import numpy as np\r\n",
    "import matplotlib.pyplot as plt\r\n",
    "import seaborn as sns\r\n",
    "\r\n",
    "sns.set(font='georgia')\r\n",
    "sns.set_style(\"ticks\")\r\n"
   ],
   "outputs": [],
   "metadata": {}
  },
  {
   "cell_type": "code",
   "execution_count": null,
   "source": [
    "\r\n",
    "df = pd.read_csv('streaming_history.csv', index_col=0)\r\n",
    "df.shape\r\n"
   ],
   "outputs": [],
   "metadata": {}
  },
  {
   "cell_type": "code",
   "execution_count": null,
   "source": [
    "#tracks playing time\r\n",
    "df['secPlayed'] = df['msPlayed'] / 1000\r\n",
    "# moving seconds column to proper place\r\n",
    "df = df[df.columns[:-1].insert(4, df.columns[-1])]\r\n",
    "# removing songs that were played for less than 60 secs\r\n",
    "df = df[df.secPlayed > 60]\r\n",
    "df.shape"
   ],
   "outputs": [],
   "metadata": {}
  },
  {
   "cell_type": "code",
   "execution_count": null,
   "source": [
    "df.head()"
   ],
   "outputs": [],
   "metadata": {}
  },
  {
   "cell_type": "code",
   "execution_count": null,
   "source": [
    "#identifying the month\r\n",
    "df['month'] = df.endTime.str.split('-').apply(lambda x: (x[0], x[1]))\r\n"
   ],
   "outputs": [],
   "metadata": {}
  },
  {
   "cell_type": "code",
   "execution_count": null,
   "source": [
    "\r\n",
    "#listing months and features\r\n",
    "months = list(set(df.month.values))\r\n",
    "months.sort()\r\n",
    "features = ['danceability', 'energy',\r\n",
    "            'speechiness', 'instrumentalness', 'valence']\r\n"
   ],
   "outputs": [],
   "metadata": {}
  },
  {
   "cell_type": "code",
   "execution_count": null,
   "source": [
    "#standardizing features (we're interested not in their absolute value, but in how each changed over time)\r\n",
    "for feature in features:\r\n",
    "    df[f'{feature}_zscore'] = (\r\n",
    "        df[feature] - df[feature].mean()) / df[feature].std()\r\n"
   ],
   "outputs": [],
   "metadata": {}
  },
  {
   "cell_type": "code",
   "execution_count": null,
   "source": [
    "\r\n",
    "#making sure we standardized correctly: mean is 0 and std is 1\r\n",
    "df[[feature + '_zscore' for feature in features]].describe().loc['mean':'std'].T\r\n"
   ],
   "outputs": [],
   "metadata": {}
  },
  {
   "cell_type": "code",
   "execution_count": null,
   "source": [
    "#features averages by month\r\n",
    "Month = namedtuple('Month', features)\r\n",
    "avg_features_months = []\r\n",
    "for month in months:\r\n",
    "    df_month = df[df['month'] == month]\r\n",
    "    avg_features = df_month.describe(\r\n",
    "    ).loc['mean'][[feature + '_zscore' for feature in features]]\r\n",
    "    month = Month(*avg_features)\r\n",
    "    avg_features_months.append(month)\r\n"
   ],
   "outputs": [],
   "metadata": {}
  },
  {
   "cell_type": "code",
   "execution_count": null,
   "source": [
    "#labelling months\r\n",
    "month_labels = [f'{month[1]}/{month[0]}' for month in months]\r\n",
    "month_labels_short = [m[:3]+m[-2:] for m in month_labels]\r\n"
   ],
   "outputs": [],
   "metadata": {}
  },
  {
   "cell_type": "code",
   "execution_count": null,
   "source": [
    "def features_sns(features):\r\n",
    "    fig, ax = plt.subplots(figsize=(25, 10))\r\n",
    "    x = [x for x in range(13)]\r\n",
    "\r\n",
    "    for feature in features:\r\n",
    "        y = [getattr(month, feature) for month in avg_features_months]\r\n",
    "        fig = sns.lineplot(x, y, label=feature, linewidth=6,\r\n",
    "                           alpha=.7, marker='o', markersize=15)\r\n",
    "\r\n",
    "    ax.set_xticks([x for x in range(13)])\r\n",
    "    ax.set_xticklabels(labels=month_labels_short,\r\n",
    "                       rotation=45, ha='right', size=30)\r\n",
    "\r\n",
    "    for tick in ax.yaxis.get_major_ticks():\r\n",
    "        tick.label.set_fontsize(30)\r\n",
    "\r\n",
    "    leg = ax.legend(loc='upper left', bbox_to_anchor=(\r\n",
    "        1, 1.03), prop={'size': 30})\r\n",
    "\r\n",
    "    # get the individual lines inside legend and set line width\r\n",
    "    for line in leg.get_lines():\r\n",
    "        line.set_linewidth(10)\r\n",
    "\r\n",
    "    ax.set_title('My mood in 2019 (According to Spotify)',\r\n",
    "                 size=50, pad=30, fontname='sans-serif')\r\n",
    "\r\n",
    "    return ax\r\n"
   ],
   "outputs": [],
   "metadata": {}
  },
  {
   "cell_type": "code",
   "execution_count": null,
   "source": [
    "features_sns(['valence', 'energy'])\r\n",
    "x = [-1] + [x for x in range(13)]\r\n",
    "alpha = .25\r\n",
    "plt.ylim([-.5, .5])\r\n",
    "plt.xlim([-.5, 12])\r\n",
    "\r\n",
    "plt.fill_between(x[:6], -.5, 0.5, alpha=alpha)\r\n",
    "plt.fill_between(x[5:8], -.5, 0.5, alpha=alpha)\r\n",
    "plt.fill_between(x[7:11], -.5, 0.5, alpha=alpha, color=\"red\")\r\n",
    "plt.fill_between(x[10:], -.5, 0.5, alpha=alpha)\r\n",
    "\r\n",
    "plt.annotate('Studying', (1, 0.4), size=35)\r\n",
    "plt.annotate('Graduating', (4.15, 0.4), size=35,)\r\n",
    "plt.annotate('Unemployed', (6.5, 0.4), size=35,)\r\n",
    "plt.annotate('First Job', (10.35, 0.4), size=35,)\r\n",
    "\r\n",
    "plt.axhline(y=0, color='b', linestyle='--')\r\n",
    "\r\n",
    "\r\n",
    "plt.show()\r\n"
   ],
   "outputs": [],
   "metadata": {}
  }
 ],
 "metadata": {
  "orig_nbformat": 4,
  "language_info": {
   "name": "python",
   "version": "3.9.7",
   "mimetype": "text/x-python",
   "codemirror_mode": {
    "name": "ipython",
    "version": 3
   },
   "pygments_lexer": "ipython3",
   "nbconvert_exporter": "python",
   "file_extension": ".py"
  },
  "kernelspec": {
   "name": "python3",
   "display_name": "Python 3.9.7 64-bit ('Spotify': conda)"
  },
  "interpreter": {
   "hash": "d9a209e7b519b74c15d9086c8f0562fc03356f8830f7d304c133cd044ec4c080"
  }
 },
 "nbformat": 4,
 "nbformat_minor": 2
}